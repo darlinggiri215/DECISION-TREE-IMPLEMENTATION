mport pandas as pd
import numpy as np
import seaborn as sns
import matplotlib.pyplot as plt
from sklearn.datasets import load_iris
from sklearn.metrics import accuracy_score,classification_report
from sklearn.tree import DecisionTreeClassifier,plot_tree
from sklearn.model_selection import train_test_split
iris=load_iris()
x=iris.data
y=iris.target
feature_names=iris.feature_names
target_names=iris.target_names
x_train,x_test,y_train,y_test=train_test_split(x,y,random_state=42,test_size=0.3)
clf=DecisionTreeClassifier(random_state=42)
clf.fit(x_train,y_train)
y_pred=clf.predict(x_test)
accuracy=accuracy_score(y_test,y_pred)
print("Intial Accuracy:",accuracy)
print("\nClassification Report:")
print(classification_report(y_test,y_pred,target_names=target_names))
plt.figure(figsize=(15,10))
plot_tree(clf,feature_names=iris.feature_names,class_names=iris.target_names.tolist(),filled=True)
plt.show()
